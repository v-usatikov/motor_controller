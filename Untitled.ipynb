{
 "cells": [
  {
   "cell_type": "code",
   "execution_count": 1,
   "metadata": {
    "pycharm": {
     "is_executing": false
    }
   },
   "outputs": [],
   "source": [
    "from MotorController.MotorControllerInterface import Box, EthernetConnector\n",
    "from MotorController.SmarAct_MCS2 import MCS2Communicator"
   ]
  },
  {
   "cell_type": "code",
   "execution_count": 2,
   "metadata": {
    "pycharm": {
     "is_executing": false
    }
   },
   "outputs": [
    {
     "name": "stdout",
     "text": [
      "b':SYST:ERR:COUN?\\r\\n'\nb':DEV:NOBM?\\r\\n'\nb':SYST:ERR:COUN?\\r\\n'\nb':SYST:ERR:COUN?\\r\\n'\nb':MOD0:NOMC?\\r\\n'\nb':SYST:ERR:COUN?\\r\\n'\nb':SYST:ERR:COUN?\\r\\n'\nb':DEV:NOBM?\\r\\n'\nb':SYST:ERR:COUN?\\r\\n'\nb':SYST:ERR:COUN?\\r\\n'\nb':MOD0:NOMC?\\r\\n'\nb':SYST:ERR:COUN?\\r\\n'\nb':SYST:ERR:COUN?\\r\\n'\nb':CHAN0:PTYPe 300\\r\\n'\nb':SYST:ERR:COUN?\\r\\n'\nb':SYST:ERR:COUN?\\r\\n'\nb':CHAN0:VEL 0\\r\\n'\nb':SYST:ERR:COUN?\\r\\n'\nb':SYST:ERR:COUN?\\r\\n'\nb':CHAN0:ACC 0\\r\\n'\nb':SYST:ERR:COUN?\\r\\n'\nb':SYST:ERR:COUN?\\r\\n'\nb':CHAN1:PTYPe 300\\r\\n'\nb':SYST:ERR:COUN?\\r\\n'\nb':SYST:ERR:COUN?\\r\\n'\nb':CHAN1:VEL 0\\r\\n'\nb':SYST:ERR:COUN?\\r\\n'\nb':SYST:ERR:COUN?\\r\\n'\nb':CHAN1:ACC 0\\r\\n'\nb':SYST:ERR:COUN?\\r\\n'\nb':SYST:ERR:COUN?\\r\\n'\nb':CHAN2:PTYPe 300\\r\\n'\nb':SYST:ERR:COUN?\\r\\n'\nb':SYST:ERR:COUN?\\r\\n'\nb':CHAN2:VEL 0\\r\\n'\nb':SYST:ERR:COUN?\\r\\n'\nb':SYST:ERR:COUN?\\r\\n'\nb':CHAN2:ACC 0\\r\\n'\nb':SYST:ERR:COUN?\\r\\n'\nBox wurde initialisiert. 1 Controller und 3 Achsen gefunden:\nController 0 (3 Achsen)\n\n"
     ],
     "output_type": "stream"
    }
   ],
   "source": [
    "ip = '192.168.0.200'\n",
    "port = 55551\n",
    "connector = EthernetConnector(ip, port, end_symbol=b'\\r\\n', timeout=0.004)\n",
    "communicator = MCS2Communicator(connector)\n",
    "    \n",
    "box = Box(communicator)\n",
    "print(box.report)\n",
    "\n",
    "box.controller[0].motor[0].config['with_initiators'] = 1\n",
    "box.controller[0].motor[1].config['with_initiators'] = 1\n",
    "box.controller[0].motor[2].config['with_initiators'] = 1"
   ]
  },
  {
   "cell_type": "code",
   "execution_count": 3,
   "metadata": {
    "pycharm": {
     "is_executing": false
    }
   },
   "outputs": [],
   "source": [
    "motor = box.controller[0].motor[0]\n",
    "motor.config['with_initiators'] = 1"
   ]
  },
  {
   "cell_type": "code",
   "execution_count": 4,
   "metadata": {
    "pycharm": {
     "is_executing": false
    }
   },
   "outputs": [
    {
     "name": "stdout",
     "text": [
      "b':SYST:ERR:COUN?\\r\\n'\nb':CHAN0:CAL:OPT 0\\r\\n'\nb':SYST:ERR:COUN?\\r\\n'\nb':SYST:ERR:COUN?\\r\\n'\nb':CAL0\\r\\n'\nb':SYST:ERR:COUN?\\r\\n'\n"
     ],
     "output_type": "stream"
    }
   ],
   "source": [
    "motor.base_calibration()"
   ]
  },
  {
   "cell_type": "code",
   "execution_count": 5,
   "metadata": {
    "pycharm": {
     "is_executing": false
    }
   },
   "outputs": [
    {
     "name": "stdout",
     "text": [
      "b':SYST:ERR:COUN?\\r\\n'\nb':CHAN0:CAL:OPT 0\\r\\n'\nb':SYST:ERR:COUN?\\r\\n'\nb':SYST:ERR:COUN?\\r\\n'\nb':CAL0\\r\\n'\nb':SYST:ERR:COUN?\\r\\n'\nb':SYST:ERR:COUN?\\r\\n'\nb':CHAN0:STATe?\\r\\n'\nb':SYST:ERR:COUN?\\r\\n'\n",
      "b':SYST:ERR:COUN?\\r\\n'\nb':CHAN0:STATe?\\r\\n'\nb':SYST:ERR:COUN?\\r\\n'\n",
      "b':SYST:ERR:COUN?\\r\\n'\nb':CHAN0:STATe?\\r\\n'\nb':SYST:ERR:COUN?\\r\\n'\n",
      "b':SYST:ERR:COUN?\\r\\n'\nb':CHAN0:STATe?\\r\\n'\nb':SYST:ERR:COUN?\\r\\n'\n",
      "b':SYST:ERR:COUN?\\r\\n'\nb':CHAN0:STATe?\\r\\n'\nb':SYST:ERR:COUN?\\r\\n'\n",
      "b':SYST:ERR:COUN?\\r\\n'\nb':CHAN0:STATe?\\r\\n'\nb':SYST:ERR:COUN?\\r\\n'\n",
      "b':SYST:ERR:COUN?\\r\\n'\nb':CHAN0:STATe?\\r\\n'\nb':SYST:ERR:COUN?\\r\\n'\nb':SYST:ERR:COUN?\\r\\n'\nb':CHAN0:MMOD 1\\r\\n'\nb':SYST:ERR:COUN?\\r\\n'\nb':SYST:ERR:COUN?\\r\\n'\nb':MOVE0 50000000000.0\\r\\n'\nb':SYST:ERR:COUN?\\r\\n'\nb':SYST:ERR:COUN?\\r\\n'\nb':CHAN0:STATe?\\r\\n'\nb':SYST:ERR:COUN?\\r\\n'\n",
      "b':SYST:ERR:COUN?\\r\\n'\nb':CHAN0:STATe?\\r\\n'\nb':SYST:ERR:COUN?\\r\\n'\n",
      "b':SYST:ERR:COUN?\\r\\n'\nb':CHAN0:STATe?\\r\\n'\nb':SYST:ERR:COUN?\\r\\n'\n",
      "b':SYST:ERR:COUN?\\r\\n'\nb':CHAN0:STATe?\\r\\n'\nb':SYST:ERR:COUN?\\r\\n'\n",
      "b':SYST:ERR:COUN?\\r\\n'\nb':CHAN0:STATe?\\r\\n'\nb':SYST:ERR:COUN?\\r\\n'\nb':SYST:ERR:COUN?\\r\\n'\nb':CHAN0:STATe?\\r\\n'\nb':SYST:ERR:COUN?\\r\\n'\nb':SYST:ERR:COUN?\\r\\n'\nb':CHAN0:POS?\\r\\n'\nb':SYST:ERR:COUN?\\r\\n'\nb':SYST:ERR:COUN?\\r\\n'\nb':CHAN0:MMOD 1\\r\\n'\nb':SYST:ERR:COUN?\\r\\n'\nb':SYST:ERR:COUN?\\r\\n'\nb':MOVE0 -50000000000.0\\r\\n'\nb':SYST:ERR:COUN?\\r\\n'\nb':SYST:ERR:COUN?\\r\\n'\nb':CHAN0:STATe?\\r\\n'\nb':SYST:ERR:COUN?\\r\\n'\n",
      "b':SYST:ERR:COUN?\\r\\n'\nb':CHAN0:STATe?\\r\\n'\nb':SYST:ERR:COUN?\\r\\n'\n",
      "b':SYST:ERR:COUN?\\r\\n'\nb':CHAN0:STATe?\\r\\n'\nb':SYST:ERR:COUN?\\r\\n'\n",
      "b':SYST:ERR:COUN?\\r\\n'\nb':CHAN0:STATe?\\r\\n'\nb':SYST:ERR:COUN?\\r\\n'\n",
      "b':SYST:ERR:COUN?\\r\\n'\nb':CHAN0:STATe?\\r\\n'\nb':SYST:ERR:COUN?\\r\\n'\n",
      "b':SYST:ERR:COUN?\\r\\n'\nb':CHAN0:STATe?\\r\\n'\nb':SYST:ERR:COUN?\\r\\n'\n",
      "b':SYST:ERR:COUN?\\r\\n'\nb':CHAN0:STATe?\\r\\n'\nb':SYST:ERR:COUN?\\r\\n'\n",
      "b':SYST:ERR:COUN?\\r\\n'\nb':CHAN0:STATe?\\r\\n'\nb':SYST:ERR:COUN?\\r\\n'\n",
      "b':SYST:ERR:COUN?\\r\\n'\nb':CHAN0:STATe?\\r\\n'\nb':SYST:ERR:COUN?\\r\\n'\n",
      "b':SYST:ERR:COUN?\\r\\n'\nb':CHAN0:STATe?\\r\\n'\nb':SYST:ERR:COUN?\\r\\n'\nb':SYST:ERR:COUN?\\r\\n'\nb':CHAN0:STATe?\\r\\n'\nb':SYST:ERR:COUN?\\r\\n'\nb':SYST:ERR:COUN?\\r\\n'\nb':CHAN0:POS?\\r\\n'\nb':SYST:ERR:COUN?\\r\\n'\n"
     ],
     "output_type": "stream"
    }
   ],
   "source": [
    "motor.calibrate()"
   ]
  },
  {
   "cell_type": "code",
   "execution_count": 16,
   "metadata": {},
   "outputs": [
    {
     "name": "stdout",
     "output_type": "stream",
     "text": [
      "b':SYST:ERR:COUN?\\r\\n'\n",
      "b':CHAN0:CAL:OPT 0\\r\\n'\n",
      "b':SYST:ERR:COUN?\\r\\n'\n",
      "b':SYST:ERR:COUN?\\r\\n'\n",
      "b':CAL0\\r\\n'\n",
      "b':SYST:ERR:COUN?\\r\\n'\n",
      "b':SYST:ERR:COUN?\\r\\n'\n",
      "b':CHAN2:CAL:OPT 0\\r\\n'\n",
      "b':SYST:ERR:COUN?\\r\\n'\n",
      "b':SYST:ERR:COUN?\\r\\n'\n",
      "b':CAL2\\r\\n'\n",
      "b':SYST:ERR:COUN?\\r\\n'\n",
      "b':SYST:ERR:COUN?\\r\\n'\n",
      "b':CHAN0:STATe?\\r\\n'\n",
      "b':SYST:ERR:COUN?\\r\\n'\n",
      "b':SYST:ERR:COUN?\\r\\n'\n",
      "b':CHAN1:CAL:OPT 0\\r\\n'\n",
      "b':SYST:ERR:COUN?\\r\\n'\n",
      "b':SYST:ERR:COUN?\\r\\n'\n",
      "b':CHAN2:STATe?\\r\\n'\n",
      "b':SYST:ERR:COUN?\\r\\n'\n",
      "b':SYST:ERR:COUN?\\r\\n'\n",
      "b':CAL1\\r\\n'\n",
      "b':SYST:ERR:COUN?\\r\\n'\n",
      "b':SYST:ERR:COUN?\\r\\n'\n",
      "b':CHAN1:STATe?\\r\\n'\n",
      "b':SYST:ERR:COUN?\\r\\n'\n",
      "b':SYST:ERR:COUN?\\r\\n'\n",
      "b':CHAN0:STATe?\\r\\n'\n",
      "b':SYST:ERR:COUN?\\r\\n'\n",
      "b':SYST:ERR:COUN?\\r\\n'\n",
      "b':CHAN2:STATe?\\r\\n'\n",
      "b':SYST:ERR:COUN?\\r\\n'\n",
      "b':SYST:ERR:COUN?\\r\\n'\n",
      "b':CHAN1:STATe?\\r\\n'\n",
      "b':SYST:ERR:COUN?\\r\\n'\n",
      "b':SYST:ERR:COUN?\\r\\n'\n",
      "b':CHAN0:STATe?\\r\\n'\n",
      "b':SYST:ERR:COUN?\\r\\n'\n",
      "b':SYST:ERR:COUN?\\r\\n'\n",
      "b':CHAN2:STATe?\\r\\n'\n",
      "b':SYST:ERR:COUN?\\r\\n'\n",
      "b':SYST:ERR:COUN?\\r\\n'\n",
      "b':CHAN1:STATe?\\r\\n'\n",
      "b':SYST:ERR:COUN?\\r\\n'\n",
      "b':SYST:ERR:COUN?\\r\\n'\n",
      "b':CHAN0:STATe?\\r\\n'\n",
      "b':SYST:ERR:COUN?\\r\\n'\n",
      "b':SYST:ERR:COUN?\\r\\n'\n",
      "b':CHAN2:STATe?\\r\\n'\n",
      "b':SYST:ERR:COUN?\\r\\n'\n",
      "b':SYST:ERR:COUN?\\r\\n'\n",
      "b':CHAN1:STATe?\\r\\n'\n",
      "b':SYST:ERR:COUN?\\r\\n'\n",
      "b':SYST:ERR:COUN?\\r\\n'\n",
      "b':CHAN0:STATe?\\r\\n'\n",
      "b':SYST:ERR:COUN?\\r\\n'\n",
      "b':SYST:ERR:COUN?\\r\\n'\n",
      "b':CHAN2:STATe?\\r\\n'\n",
      "b':SYST:ERR:COUN?\\r\\n'\n",
      "b':SYST:ERR:COUN?\\r\\n'\n",
      "b':CHAN1:STATe?\\r\\n'\n",
      "b':SYST:ERR:COUN?\\r\\n'\n",
      "b':SYST:ERR:COUN?\\r\\n'\n",
      "b':CHAN0:STATe?\\r\\n'\n",
      "b':SYST:ERR:COUN?\\r\\n'\n",
      "b':SYST:ERR:COUN?\\r\\n'\n",
      "b':CHAN2:STATe?\\r\\n'\n",
      "b':SYST:ERR:COUN?\\r\\n'\n",
      "b':SYST:ERR:COUN?\\r\\n'\n",
      "b':CHAN1:STATe?\\r\\n'\n",
      "b':SYST:ERR:COUN?\\r\\n'\n",
      "b':SYST:ERR:COUN?\\r\\n'\n",
      "b':CHAN0:STATe?\\r\\n'\n",
      "b':SYST:ERR:COUN?\\r\\n'\n",
      "b':SYST:ERR:COUN?\\r\\n'\n",
      "b':CHAN0:MMOD 1\\r\\n'\n",
      "b':SYST:ERR:COUN?\\r\\n'\n",
      "b':SYST:ERR:COUN?\\r\\n'\n",
      "b':MOVE0 50000000000.0\\r\\n'\n",
      "b':SYST:ERR:COUN?\\r\\n'\n",
      "b':SYST:ERR:COUN?\\r\\n'\n",
      "b':CHAN2:STATe?\\r\\n'\n",
      "b':SYST:ERR:COUN?\\r\\n'\n",
      "b':SYST:ERR:COUN?\\r\\n'\n",
      "b':CHAN0:STATe?\\r\\n'\n",
      "b':SYST:ERR:COUN?\\r\\n'\n",
      "b':SYST:ERR:COUN?\\r\\n'\n",
      "b':CHAN1:STATe?\\r\\n'\n",
      "b':SYST:ERR:COUN?\\r\\n'\n",
      "b':SYST:ERR:COUN?\\r\\n'\n",
      "b':CHAN2:MMOD 1\\r\\n'\n",
      "b':SYST:ERR:COUN?\\r\\n'\n",
      "b':SYST:ERR:COUN?\\r\\n'\n",
      "b':MOVE2 50000000000.0\\r\\n'\n",
      "b':SYST:ERR:COUN?\\r\\n'\n",
      "b':SYST:ERR:COUN?\\r\\n'\n",
      "b':CHAN1:MMOD 1\\r\\n'\n",
      "b':SYST:ERR:COUN?\\r\\n'\n",
      "b':SYST:ERR:COUN?\\r\\n'\n",
      "b':CHAN2:STATe?\\r\\n'\n",
      "b':SYST:ERR:COUN?\\r\\n'\n",
      "b':SYST:ERR:COUN?\\r\\n'\n",
      "b':MOVE1 50000000000.0\\r\\n'\n",
      "b':SYST:ERR:COUN?\\r\\n'\n",
      "b':SYST:ERR:COUN?\\r\\n'\n",
      "b':CHAN1:STATe?\\r\\n'\n",
      "b':SYST:ERR:COUN?\\r\\n'\n",
      "b':SYST:ERR:COUN?\\r\\n'\n",
      "b':CHAN0:STATe?\\r\\n'\n",
      "b':SYST:ERR:COUN?\\r\\n'\n",
      "b':SYST:ERR:COUN?\\r\\n'\n",
      "b':CHAN2:STATe?\\r\\n'\n",
      "b':SYST:ERR:COUN?\\r\\n'\n",
      "b':SYST:ERR:COUN?\\r\\n'\n",
      "b':CHAN1:STATe?\\r\\n'\n",
      "b':SYST:ERR:COUN?\\r\\n'\n",
      "b':SYST:ERR:COUN?\\r\\n'\n",
      "b':CHAN0:STATe?\\r\\n'\n",
      "b':SYST:ERR:COUN?\\r\\n'\n",
      "b':SYST:ERR:COUN?\\r\\n'\n",
      "b':CHAN2:STATe?\\r\\n'\n",
      "b':SYST:ERR:COUN?\\r\\n'\n",
      "b':SYST:ERR:COUN?\\r\\n'\n",
      "b':CHAN1:STATe?\\r\\n'\n",
      "b':SYST:ERR:COUN?\\r\\n'\n",
      "b':SYST:ERR:COUN?\\r\\n'\n",
      "b':CHAN0:STATe?\\r\\n'\n",
      "b':SYST:ERR:COUN?\\r\\n'\n",
      "b':SYST:ERR:COUN?\\r\\n'\n",
      "b':CHAN2:STATe?\\r\\n'\n",
      "b':SYST:ERR:COUN?\\r\\n'\n",
      "b':SYST:ERR:COUN?\\r\\n'\n",
      "b':CHAN1:STATe?\\r\\n'\n",
      "b':SYST:ERR:COUN?\\r\\n'\n",
      "b':SYST:ERR:COUN?\\r\\n'\n",
      "b':CHAN0:STATe?\\r\\n'\n",
      "b':SYST:ERR:COUN?\\r\\n'\n",
      "b':SYST:ERR:COUN?\\r\\n'\n",
      "b':CHAN0:STATe?\\r\\n'\n",
      "b':SYST:ERR:COUN?\\r\\n'\n",
      "b':SYST:ERR:COUN?\\r\\n'\n",
      "b':CHAN0:POS?\\r\\n'\n",
      "b':SYST:ERR:COUN?\\r\\n'\n",
      "b':SYST:ERR:COUN?\\r\\n'\n",
      "b':CHAN0:MMOD 1\\r\\n'\n",
      "b':SYST:ERR:COUN?\\r\\n'\n",
      "b':SYST:ERR:COUN?\\r\\n'\n",
      "b':MOVE0 -50000000000.0\\r\\n'\n",
      "b':SYST:ERR:COUN?\\r\\n'\n",
      "b':SYST:ERR:COUN?\\r\\n'\n",
      "b':CHAN0:STATe?\\r\\n'\n",
      "b':SYST:ERR:COUN?\\r\\n'\n",
      "b':SYST:ERR:COUN?\\r\\n'\n",
      "b':CHAN2:STATe?\\r\\n'\n",
      "b':SYST:ERR:COUN?\\r\\n'\n",
      "b':SYST:ERR:COUN?\\r\\n'\n",
      "b':CHAN1:STATe?\\r\\n'\n",
      "b':SYST:ERR:COUN?\\r\\n'\n",
      "b':SYST:ERR:COUN?\\r\\n'\n",
      "b':CHAN1:STATe?\\r\\n'\n",
      "b':SYST:ERR:COUN?\\r\\n'\n",
      "b':SYST:ERR:COUN?\\r\\n'\n",
      "b':CHAN2:STATe?\\r\\n'\n",
      "b':SYST:ERR:COUN?\\r\\n'\n",
      "b':SYST:ERR:COUN?\\r\\n'\n",
      "b':CHAN1:POS?\\r\\n'\n",
      "b':SYST:ERR:COUN?\\r\\n'\n",
      "b':SYST:ERR:COUN?\\r\\n'\n",
      "b':CHAN1:MMOD 1\\r\\n'\n",
      "b':SYST:ERR:COUN?\\r\\n'\n",
      "b':SYST:ERR:COUN?\\r\\n'\n",
      "b':MOVE1 -50000000000.0\\r\\n'\n",
      "b':SYST:ERR:COUN?\\r\\n'\n",
      "b':SYST:ERR:COUN?\\r\\n'\n",
      "b':CHAN2:POS?\\r\\n'\n",
      "b':SYST:ERR:COUN?\\r\\n'\n",
      "b':SYST:ERR:COUN?\\r\\n'\n",
      "b':CHAN2:MMOD 1\\r\\n'\n",
      "b':SYST:ERR:COUN?\\r\\n'\n",
      "b':SYST:ERR:COUN?\\r\\n'\n",
      "b':CHAN1:STATe?\\r\\n'\n",
      "b':SYST:ERR:COUN?\\r\\n'\n",
      "b':SYST:ERR:COUN?\\r\\n'\n",
      "b':MOVE2 -50000000000.0\\r\\n'\n",
      "b':SYST:ERR:COUN?\\r\\n'\n",
      "b':SYST:ERR:COUN?\\r\\n'\n",
      "b':CHAN2:STATe?\\r\\n'\n",
      "b':SYST:ERR:COUN?\\r\\n'\n",
      "b':SYST:ERR:COUN?\\r\\n'\n",
      "b':CHAN0:STATe?\\r\\n'\n",
      "b':SYST:ERR:COUN?\\r\\n'\n",
      "b':SYST:ERR:COUN?\\r\\n'\n",
      "b':CHAN1:STATe?\\r\\n'\n",
      "b':SYST:ERR:COUN?\\r\\n'\n",
      "b':SYST:ERR:COUN?\\r\\n'\n",
      "b':CHAN2:STATe?\\r\\n'\n",
      "b':SYST:ERR:COUN?\\r\\n'\n",
      "b':SYST:ERR:COUN?\\r\\n'\n",
      "b':CHAN0:STATe?\\r\\n'\n",
      "b':SYST:ERR:COUN?\\r\\n'\n",
      "b':SYST:ERR:COUN?\\r\\n'\n",
      "b':CHAN1:STATe?\\r\\n'\n",
      "b':SYST:ERR:COUN?\\r\\n'\n",
      "b':SYST:ERR:COUN?\\r\\n'\n",
      "b':CHAN2:STATe?\\r\\n'\n",
      "b':SYST:ERR:COUN?\\r\\n'\n",
      "b':SYST:ERR:COUN?\\r\\n'\n",
      "b':CHAN0:STATe?\\r\\n'\n",
      "b':SYST:ERR:COUN?\\r\\n'\n",
      "b':SYST:ERR:COUN?\\r\\n'\n",
      "b':CHAN1:STATe?\\r\\n'\n",
      "b':SYST:ERR:COUN?\\r\\n'\n",
      "b':SYST:ERR:COUN?\\r\\n'\n",
      "b':CHAN2:STATe?\\r\\n'\n",
      "b':SYST:ERR:COUN?\\r\\n'\n",
      "b':SYST:ERR:COUN?\\r\\n'\n",
      "b':CHAN0:STATe?\\r\\n'\n",
      "b':SYST:ERR:COUN?\\r\\n'\n",
      "b':SYST:ERR:COUN?\\r\\n'\n",
      "b':CHAN1:STATe?\\r\\n'\n",
      "b':SYST:ERR:COUN?\\r\\n'\n",
      "b':SYST:ERR:COUN?\\r\\n'\n",
      "b':CHAN2:STATe?\\r\\n'\n",
      "b':SYST:ERR:COUN?\\r\\n'\n",
      "b':SYST:ERR:COUN?\\r\\n'\n",
      "b':CHAN0:STATe?\\r\\n'\n",
      "b':SYST:ERR:COUN?\\r\\n'\n",
      "b':SYST:ERR:COUN?\\r\\n'\n",
      "b':CHAN1:STATe?\\r\\n'\n",
      "b':SYST:ERR:COUN?\\r\\n'\n",
      "b':SYST:ERR:COUN?\\r\\n'\n",
      "b':CHAN2:STATe?\\r\\n'\n",
      "b':SYST:ERR:COUN?\\r\\n'\n",
      "b':SYST:ERR:COUN?\\r\\n'\n",
      "b':CHAN0:STATe?\\r\\n'\n",
      "b':SYST:ERR:COUN?\\r\\n'\n",
      "b':SYST:ERR:COUN?\\r\\n'\n",
      "b':CHAN1:STATe?\\r\\n'\n",
      "b':SYST:ERR:COUN?\\r\\n'\n",
      "b':SYST:ERR:COUN?\\r\\n'\n",
      "b':CHAN2:STATe?\\r\\n'\n",
      "b':SYST:ERR:COUN?\\r\\n'\n",
      "b':SYST:ERR:COUN?\\r\\n'\n",
      "b':CHAN0:STATe?\\r\\n'\n",
      "b':SYST:ERR:COUN?\\r\\n'\n",
      "b':SYST:ERR:COUN?\\r\\n'\n",
      "b':CHAN1:STATe?\\r\\n'\n",
      "b':SYST:ERR:COUN?\\r\\n'\n",
      "b':SYST:ERR:COUN?\\r\\n'\n",
      "b':CHAN2:STATe?\\r\\n'\n",
      "b':SYST:ERR:COUN?\\r\\n'\n",
      "b':SYST:ERR:COUN?\\r\\n'\n",
      "b':CHAN0:STATe?\\r\\n'\n",
      "b':SYST:ERR:COUN?\\r\\n'\n",
      "b':SYST:ERR:COUN?\\r\\n'\n",
      "b':CHAN0:STATe?\\r\\n'\n",
      "b':SYST:ERR:COUN?\\r\\n'\n",
      "b':SYST:ERR:COUN?\\r\\n'\n",
      "b':CHAN0:POS?\\r\\n'\n",
      "b':SYST:ERR:COUN?\\r\\n'\n",
      "b':SYST:ERR:COUN?\\r\\n'\n",
      "b':CHAN1:STATe?\\r\\n'\n",
      "b':SYST:ERR:COUN?\\r\\n'\n",
      "b':SYST:ERR:COUN?\\r\\n'\n",
      "b':CHAN1:STATe?\\r\\n'\n",
      "b':SYST:ERR:COUN?\\r\\n'\n",
      "b':SYST:ERR:COUN?\\r\\n'\n",
      "b':CHAN1:POS?\\r\\n'\n",
      "b':SYST:ERR:COUN?\\r\\n'\n",
      "b':SYST:ERR:COUN?\\r\\n'\n",
      "b':CHAN2:STATe?\\r\\n'\n",
      "b':SYST:ERR:COUN?\\r\\n'\n",
      "b':SYST:ERR:COUN?\\r\\n'\n",
      "b':CHAN2:STATe?\\r\\n'\n",
      "b':SYST:ERR:COUN?\\r\\n'\n",
      "b':SYST:ERR:COUN?\\r\\n'\n",
      "b':CHAN2:POS?\\r\\n'\n",
      "b':SYST:ERR:COUN?\\r\\n'\n",
      "b':SYST:ERR:COUN?\\r\\n'\n",
      "b':CHAN0:MMOD 0\\r\\n'\n",
      "b':SYST:ERR:COUN?\\r\\n'\n",
      "b':SYST:ERR:COUN?\\r\\n'\n",
      "b':MOVE0 12083470710.0\\r\\n'\n",
      "b':SYST:ERR:COUN?\\r\\n'\n",
      "b':SYST:ERR:COUN?\\r\\n'\n",
      "b':CHAN1:MMOD 0\\r\\n'\n",
      "b':SYST:ERR:COUN?\\r\\n'\n",
      "b':SYST:ERR:COUN?\\r\\n'\n",
      "b':MOVE1 -11218073176.5\\r\\n'\n",
      "b':SYST:ERR:COUN?\\r\\n'\n",
      "b':SYST:ERR:COUN?\\r\\n'\n",
      "b':CHAN2:MMOD 0\\r\\n'\n",
      "b':SYST:ERR:COUN?\\r\\n'\n",
      "b':SYST:ERR:COUN?\\r\\n'\n",
      "b':MOVE2 11275824558.5\\r\\n'\n",
      "b':SYST:ERR:COUN?\\r\\n'\n"
     ]
    },
    {
     "data": {
      "text/plain": [
       "(True, '')"
      ]
     },
     "execution_count": 16,
     "metadata": {},
     "output_type": "execute_result"
    }
   ],
   "source": [
    "box.calibrate_motors()\n",
    "box.controller[0].motor[0].go_to(500)\n",
    "box.controller[0].motor[1].go_to(500)\n",
    "box.controller[0].motor[2].go_to(500)"
   ]
  },
  {
   "cell_type": "code",
   "execution_count": 6,
   "metadata": {},
   "outputs": [
    {
     "name": "stdout",
     "output_type": "stream",
     "text": [
      "b':SYST:ERR:COUN?\\r\\n'\n",
      "b':STOP0\\r\\n'\n",
      "b':SYST:ERR:COUN?\\r\\n'\n"
     ]
    }
   ],
   "source": [
    "motor.stop()"
   ]
  },
  {
   "cell_type": "code",
   "execution_count": 6,
   "metadata": {
    "pycharm": {
     "is_executing": false
    }
   },
   "outputs": [
    {
     "name": "stdout",
     "text": [
      "b':SYST:ERR:COUN?\\r\\n'\nb':CHAN0:MMOD 0\\r\\n'\nb':SYST:ERR:COUN?\\r\\n'\nb':SYST:ERR:COUN?\\r\\n'\nb':MOVE0 0.0\\r\\n'\nb':SYST:ERR:COUN?\\r\\n'\n"
     ],
     "output_type": "stream"
    },
    {
     "data": {
      "text/plain": "(True, '')"
     },
     "metadata": {},
     "output_type": "execute_result",
     "execution_count": 6
    }
   ],
   "source": [
    "pos = 0\n",
    "motor.go_to(pos*10**9, 'contr')"
   ]
  },
  {
   "cell_type": "code",
   "execution_count": 15,
   "metadata": {},
   "outputs": [
    {
     "name": "stdout",
     "output_type": "stream",
     "text": [
      "b':SYST:ERR:COUN?\\r\\n'\n",
      "b':CHAN0:MMOD 0\\r\\n'\n",
      "b':SYST:ERR:COUN?\\r\\n'\n",
      "b':SYST:ERR:COUN?\\r\\n'\n",
      "b':MOVE0 12083100146.0\\r\\n'\n",
      "b':SYST:ERR:COUN?\\r\\n'\n"
     ]
    },
    {
     "data": {
      "text/plain": [
       "(True, '')"
      ]
     },
     "execution_count": 15,
     "metadata": {},
     "output_type": "execute_result"
    }
   ],
   "source": [
    "motor.go_to(500, wait = False)"
   ]
  },
  {
   "cell_type": "code",
   "execution_count": null,
   "metadata": {},
   "outputs": [],
   "source": [
    "motor.position('contr')"
   ]
  },
  {
   "cell_type": "code",
   "execution_count": null,
   "metadata": {},
   "outputs": [],
   "source": []
  }
 ],
 "metadata": {
  "kernelspec": {
   "display_name": "Python 3",
   "language": "python",
   "name": "python3"
  },
  "language_info": {
   "codemirror_mode": {
    "name": "ipython",
    "version": 3
   },
   "file_extension": ".py",
   "mimetype": "text/x-python",
   "name": "python",
   "nbconvert_exporter": "python",
   "pygments_lexer": "ipython3",
   "version": "3.7.5"
  },
  "pycharm": {
   "stem_cell": {
    "cell_type": "raw",
    "source": [],
    "metadata": {
     "collapsed": false
    }
   }
  }
 },
 "nbformat": 4,
 "nbformat_minor": 2
}